{
 "cells": [
  {
   "cell_type": "markdown",
   "id": "fbf03b74",
   "metadata": {},
   "source": [
    "# <font color=white>Zomato EDA</font>\n",
    "***"
   ]
  },
  {
   "cell_type": "code",
   "execution_count": 1,
   "id": "3837af75",
   "metadata": {},
   "outputs": [],
   "source": [
    "import pandas as pd\n",
    "import numpy as np\n",
    "import seaborn as sns\n",
    "import matplotlib.pyplot as plt"
   ]
  },
  {
   "cell_type": "code",
   "execution_count": 2,
   "id": "d0e60d7c",
   "metadata": {},
   "outputs": [],
   "source": [
    "#load file\n",
    "df = pd.read_csv(\"../data/zomato.csv\")"
   ]
  },
  {
   "cell_type": "code",
   "execution_count": 3,
   "id": "ba851f38",
   "metadata": {},
   "outputs": [
    {
     "data": {
      "text/plain": [
       "(9551, 21)"
      ]
     },
     "execution_count": 3,
     "metadata": {},
     "output_type": "execute_result"
    }
   ],
   "source": [
    "#records x columns\n",
    "df.shape"
   ]
  },
  {
   "cell_type": "code",
   "execution_count": 4,
   "id": "31384f65",
   "metadata": {},
   "outputs": [
    {
     "data": {
      "text/html": [
       "<div>\n",
       "<style scoped>\n",
       "    .dataframe tbody tr th:only-of-type {\n",
       "        vertical-align: middle;\n",
       "    }\n",
       "\n",
       "    .dataframe tbody tr th {\n",
       "        vertical-align: top;\n",
       "    }\n",
       "\n",
       "    .dataframe thead th {\n",
       "        text-align: right;\n",
       "    }\n",
       "</style>\n",
       "<table border=\"1\" class=\"dataframe\">\n",
       "  <thead>\n",
       "    <tr style=\"text-align: right;\">\n",
       "      <th></th>\n",
       "      <th>Restaurant ID</th>\n",
       "      <th>Country Code</th>\n",
       "      <th>Longitude</th>\n",
       "      <th>Latitude</th>\n",
       "      <th>Average Cost for two</th>\n",
       "      <th>Price range</th>\n",
       "      <th>Aggregate rating</th>\n",
       "      <th>Votes</th>\n",
       "    </tr>\n",
       "  </thead>\n",
       "  <tbody>\n",
       "    <tr>\n",
       "      <th>count</th>\n",
       "      <td>9.551000e+03</td>\n",
       "      <td>9551.000000</td>\n",
       "      <td>9551.000000</td>\n",
       "      <td>9551.000000</td>\n",
       "      <td>9551.000000</td>\n",
       "      <td>9551.000000</td>\n",
       "      <td>9551.000000</td>\n",
       "      <td>9551.000000</td>\n",
       "    </tr>\n",
       "    <tr>\n",
       "      <th>mean</th>\n",
       "      <td>9.051128e+06</td>\n",
       "      <td>18.365616</td>\n",
       "      <td>64.126574</td>\n",
       "      <td>25.854381</td>\n",
       "      <td>1199.210763</td>\n",
       "      <td>1.804837</td>\n",
       "      <td>2.666370</td>\n",
       "      <td>156.909748</td>\n",
       "    </tr>\n",
       "    <tr>\n",
       "      <th>std</th>\n",
       "      <td>8.791521e+06</td>\n",
       "      <td>56.750546</td>\n",
       "      <td>41.467058</td>\n",
       "      <td>11.007935</td>\n",
       "      <td>16121.183073</td>\n",
       "      <td>0.905609</td>\n",
       "      <td>1.516378</td>\n",
       "      <td>430.169145</td>\n",
       "    </tr>\n",
       "    <tr>\n",
       "      <th>min</th>\n",
       "      <td>5.300000e+01</td>\n",
       "      <td>1.000000</td>\n",
       "      <td>-157.948486</td>\n",
       "      <td>-41.330428</td>\n",
       "      <td>0.000000</td>\n",
       "      <td>1.000000</td>\n",
       "      <td>0.000000</td>\n",
       "      <td>0.000000</td>\n",
       "    </tr>\n",
       "    <tr>\n",
       "      <th>25%</th>\n",
       "      <td>3.019625e+05</td>\n",
       "      <td>1.000000</td>\n",
       "      <td>77.081343</td>\n",
       "      <td>28.478713</td>\n",
       "      <td>250.000000</td>\n",
       "      <td>1.000000</td>\n",
       "      <td>2.500000</td>\n",
       "      <td>5.000000</td>\n",
       "    </tr>\n",
       "    <tr>\n",
       "      <th>50%</th>\n",
       "      <td>6.004089e+06</td>\n",
       "      <td>1.000000</td>\n",
       "      <td>77.191964</td>\n",
       "      <td>28.570469</td>\n",
       "      <td>400.000000</td>\n",
       "      <td>2.000000</td>\n",
       "      <td>3.200000</td>\n",
       "      <td>31.000000</td>\n",
       "    </tr>\n",
       "    <tr>\n",
       "      <th>75%</th>\n",
       "      <td>1.835229e+07</td>\n",
       "      <td>1.000000</td>\n",
       "      <td>77.282006</td>\n",
       "      <td>28.642758</td>\n",
       "      <td>700.000000</td>\n",
       "      <td>2.000000</td>\n",
       "      <td>3.700000</td>\n",
       "      <td>131.000000</td>\n",
       "    </tr>\n",
       "    <tr>\n",
       "      <th>max</th>\n",
       "      <td>1.850065e+07</td>\n",
       "      <td>216.000000</td>\n",
       "      <td>174.832089</td>\n",
       "      <td>55.976980</td>\n",
       "      <td>800000.000000</td>\n",
       "      <td>4.000000</td>\n",
       "      <td>4.900000</td>\n",
       "      <td>10934.000000</td>\n",
       "    </tr>\n",
       "  </tbody>\n",
       "</table>\n",
       "</div>"
      ],
      "text/plain": [
       "       Restaurant ID  Country Code    Longitude     Latitude  \\\n",
       "count   9.551000e+03   9551.000000  9551.000000  9551.000000   \n",
       "mean    9.051128e+06     18.365616    64.126574    25.854381   \n",
       "std     8.791521e+06     56.750546    41.467058    11.007935   \n",
       "min     5.300000e+01      1.000000  -157.948486   -41.330428   \n",
       "25%     3.019625e+05      1.000000    77.081343    28.478713   \n",
       "50%     6.004089e+06      1.000000    77.191964    28.570469   \n",
       "75%     1.835229e+07      1.000000    77.282006    28.642758   \n",
       "max     1.850065e+07    216.000000   174.832089    55.976980   \n",
       "\n",
       "       Average Cost for two  Price range  Aggregate rating         Votes  \n",
       "count           9551.000000  9551.000000       9551.000000   9551.000000  \n",
       "mean            1199.210763     1.804837          2.666370    156.909748  \n",
       "std            16121.183073     0.905609          1.516378    430.169145  \n",
       "min                0.000000     1.000000          0.000000      0.000000  \n",
       "25%              250.000000     1.000000          2.500000      5.000000  \n",
       "50%              400.000000     2.000000          3.200000     31.000000  \n",
       "75%              700.000000     2.000000          3.700000    131.000000  \n",
       "max           800000.000000     4.000000          4.900000  10934.000000  "
      ]
     },
     "execution_count": 4,
     "metadata": {},
     "output_type": "execute_result"
    }
   ],
   "source": [
    "#numerical values\n",
    "df.describe()"
   ]
  },
  {
   "cell_type": "code",
   "execution_count": 5,
   "id": "48c77d9d",
   "metadata": {},
   "outputs": [
    {
     "data": {
      "text/plain": [
       "0"
      ]
     },
     "execution_count": 5,
     "metadata": {},
     "output_type": "execute_result"
    }
   ],
   "source": [
    "#check duplicate records\n",
    "df.duplicated().sum()"
   ]
  },
  {
   "cell_type": "code",
   "execution_count": 6,
   "id": "a7491ad4",
   "metadata": {},
   "outputs": [
    {
     "name": "stdout",
     "output_type": "stream",
     "text": [
      "<class 'pandas.core.frame.DataFrame'>\n",
      "RangeIndex: 9551 entries, 0 to 9550\n",
      "Data columns (total 21 columns):\n",
      " #   Column                Non-Null Count  Dtype  \n",
      "---  ------                --------------  -----  \n",
      " 0   Restaurant ID         9551 non-null   int64  \n",
      " 1   Restaurant Name       9551 non-null   object \n",
      " 2   Country Code          9551 non-null   int64  \n",
      " 3   City                  9551 non-null   object \n",
      " 4   Address               9551 non-null   object \n",
      " 5   Locality              9551 non-null   object \n",
      " 6   Locality Verbose      9551 non-null   object \n",
      " 7   Longitude             9551 non-null   float64\n",
      " 8   Latitude              9551 non-null   float64\n",
      " 9   Cuisines              9542 non-null   object \n",
      " 10  Average Cost for two  9551 non-null   int64  \n",
      " 11  Currency              9551 non-null   object \n",
      " 12  Has Table booking     9551 non-null   object \n",
      " 13  Has Online delivery   9551 non-null   object \n",
      " 14  Is delivering now     9551 non-null   object \n",
      " 15  Switch to order menu  9551 non-null   object \n",
      " 16  Price range           9551 non-null   int64  \n",
      " 17  Aggregate rating      9551 non-null   float64\n",
      " 18  Rating color          9551 non-null   object \n",
      " 19  Rating text           9551 non-null   object \n",
      " 20  Votes                 9551 non-null   int64  \n",
      "dtypes: float64(3), int64(5), object(13)\n",
      "memory usage: 1.5+ MB\n"
     ]
    }
   ],
   "source": [
    "#Column details\n",
    "df.info()"
   ]
  },
  {
   "cell_type": "code",
   "execution_count": 7,
   "id": "be99cc1f",
   "metadata": {},
   "outputs": [],
   "source": [
    "#Removing initial unnecessary columns\n",
    "unneeded_columns = ['Locality Verbose', 'Longitude', 'Latitude', 'Is delivering now', 'Switch to order menu', 'Rating color', 'Rating text','Locality']\n",
    "df.drop(unneeded_columns, axis=1, inplace=True)"
   ]
  },
  {
   "cell_type": "code",
   "execution_count": 8,
   "id": "c9b68acd",
   "metadata": {},
   "outputs": [
    {
     "data": {
      "text/plain": [
       "1      8652\n",
       "216     434\n",
       "215      80\n",
       "189      60\n",
       "30       60\n",
       "214      60\n",
       "148      40\n",
       "208      34\n",
       "14       24\n",
       "162      22\n",
       "94       21\n",
       "184      20\n",
       "166      20\n",
       "191      20\n",
       "37        4\n",
       "Name: Country Code, dtype: int64"
      ]
     },
     "execution_count": 8,
     "metadata": {},
     "output_type": "execute_result"
    }
   ],
   "source": [
    "df['Country Code'].value_counts()"
   ]
  },
  {
   "cell_type": "code",
   "execution_count": 9,
   "id": "d2bb3ead",
   "metadata": {},
   "outputs": [
    {
     "data": {
      "text/plain": [
       "New Delhi       5473\n",
       "Gurgaon         1118\n",
       "Noida           1080\n",
       "Faridabad        251\n",
       "Ghaziabad         25\n",
       "Guwahati          21\n",
       "Amritsar          21\n",
       "Lucknow           21\n",
       "Ahmedabad         21\n",
       "Bhubaneshwar      21\n",
       "Ranchi            20\n",
       "Allahabad         20\n",
       "Mysore            20\n",
       "Dehradun          20\n",
       "Jaipur            20\n",
       "Indore            20\n",
       "Mumbai            20\n",
       "Surat             20\n",
       "Pune              20\n",
       "Kolkata           20\n",
       "Mangalore         20\n",
       "Aurangabad        20\n",
       "Agra              20\n",
       "Goa               20\n",
       "Vadodara          20\n",
       "Ludhiana          20\n",
       "Kanpur            20\n",
       "Puducherry        20\n",
       "Bangalore         20\n",
       "Nashik            20\n",
       "Coimbatore        20\n",
       "Kochi             20\n",
       "Nagpur            20\n",
       "Vizag             20\n",
       "Patna             20\n",
       "Bhopal            20\n",
       "Varanasi          20\n",
       "Chennai           20\n",
       "Hyderabad         18\n",
       "Chandigarh        18\n",
       "Secunderabad       2\n",
       "Panchkula          1\n",
       "Mohali             1\n",
       "Name: City, dtype: int64"
      ]
     },
     "execution_count": 9,
     "metadata": {},
     "output_type": "execute_result"
    }
   ],
   "source": [
    "#only India data\n",
    "df = df.loc[df['Country Code']==1,:]\n",
    "df['City'].value_counts()"
   ]
  },
  {
   "cell_type": "code",
   "execution_count": 10,
   "id": "e54ef655",
   "metadata": {},
   "outputs": [],
   "source": [
    "#Pulling data from NCR region\n",
    "city_list = ['New Delhi', 'Gurgaon', 'Noida', 'Faridabad', 'Ghaziabad']\n",
    "df = df.loc[df['City'].isin(city_list),:]"
   ]
  },
  {
   "cell_type": "code",
   "execution_count": 11,
   "id": "deb0f96b",
   "metadata": {},
   "outputs": [
    {
     "name": "stdout",
     "output_type": "stream",
     "text": [
      "33\n",
      "0.0    2139\n",
      "3.1     506\n",
      "3.2     502\n",
      "3.0     464\n",
      "3.3     442\n",
      "3.4     433\n",
      "3.5     406\n",
      "2.9     380\n",
      "3.6     363\n",
      "3.7     317\n",
      "2.8     314\n",
      "3.8     275\n",
      "2.7     250\n",
      "3.9     223\n",
      "2.6     189\n",
      "4.0     132\n",
      "4.1     120\n",
      "2.5     109\n",
      "2.4      83\n",
      "4.2      78\n",
      "2.3      46\n",
      "4.3      46\n",
      "4.4      37\n",
      "2.2      25\n",
      "4.5      17\n",
      "2.1      15\n",
      "4.6      13\n",
      "2.0       7\n",
      "4.7       6\n",
      "4.9       4\n",
      "4.8       3\n",
      "1.9       2\n",
      "1.8       1\n",
      "Name: Aggregate rating, dtype: int64.\n"
     ]
    }
   ],
   "source": [
    "#Looking at Avg Rating column (dependant variable)\n",
    "print(\"{}\\n{}.\".format(df['Aggregate rating'].nunique(), df['Aggregate rating'].value_counts()))"
   ]
  },
  {
   "cell_type": "code",
   "execution_count": 12,
   "id": "e3710429",
   "metadata": {},
   "outputs": [
    {
     "data": {
      "text/plain": [
       "(7947, 13)"
      ]
     },
     "execution_count": 12,
     "metadata": {},
     "output_type": "execute_result"
    }
   ],
   "source": [
    "df.shape"
   ]
  },
  {
   "cell_type": "code",
   "execution_count": 13,
   "id": "bccbfbbf",
   "metadata": {},
   "outputs": [],
   "source": [
    "#removing records with no rating\n",
    "df.drop(df[df['Aggregate rating'] == 0].index, inplace = True)"
   ]
  },
  {
   "cell_type": "code",
   "execution_count": 14,
   "id": "ab3bbee3",
   "metadata": {},
   "outputs": [
    {
     "name": "stdout",
     "output_type": "stream",
     "text": [
      "1044\n",
      "North Indian                                460\n",
      "North Indian, Chinese                       361\n",
      "North Indian, Mughlai                       275\n",
      "Cafe                                        207\n",
      "Fast Food                                   205\n",
      "Chinese                                     195\n",
      "North Indian, Mughlai, Chinese              161\n",
      "Bakery                                      125\n",
      "Bakery, Desserts                            114\n",
      "Pizza, Fast Food                            109\n",
      "Street Food                                  91\n",
      "Chinese, Fast Food                           79\n",
      "Bakery, Fast Food                            78\n",
      "South Indian                                 73\n",
      "Mithai, Street Food                          70\n",
      "Ice Cream, Desserts                          66\n",
      "Bakery, Desserts, Fast Food                  60\n",
      "American, Fast Food, Salad, Healthy Food     60\n",
      "Chinese, North Indian                        59\n",
      "North Indian, Chinese, Mughlai               59\n",
      "North Indian, Chinese, Fast Food             59\n",
      "Fast Food, Burger                            53\n",
      "North Indian, Fast Food                      49\n",
      "North Indian, Chinese, Continental           46\n",
      "Ice Cream                                    45\n",
      "Mughlai                                      44\n",
      "Chinese, Thai                                44\n",
      "Raw Meats, North Indian, Fast Food           43\n",
      "Finger Food                                  38\n",
      "Beverages                                    37\n",
      "Name: Cuisines, dtype: int64.\n"
     ]
    }
   ],
   "source": [
    "#Looking at Cuisines column (independant variable)\n",
    "print(\"{}\\n{}.\".format(df['Cuisines'].nunique(), df['Cuisines'].value_counts().head(30)))"
   ]
  },
  {
   "cell_type": "code",
   "execution_count": 15,
   "id": "0e7c8119",
   "metadata": {},
   "outputs": [
    {
     "name": "stdout",
     "output_type": "stream",
     "text": [
      "84 \n",
      "\n",
      "Japanese\n",
      "Healthy Food\n",
      "American\n",
      "Italian\n",
      "Kerala\n",
      "Raw Meats\n",
      "Sushi\n",
      "Street Food\n",
      "Parsi\n",
      "Malaysian\n",
      "Bihari\n",
      "Finger Food\n",
      "Seafood\n",
      "African\n",
      "Drinks Only\n",
      "Continental\n",
      "Deli\n",
      "Vietnamese\n",
      "Mughlai\n",
      "Ice Cream\n",
      "Tex-Mex\n",
      "Steak\n",
      "Rajasthani\n",
      "Sandwich\n",
      "Desserts\n",
      "North Eastern\n",
      "North Indian\n",
      "Mangalorean\n",
      "Lebanese\n",
      "Bakery\n",
      "Naga\n",
      "Biryani\n",
      "Afghani\n",
      "Assamese\n",
      "Turkish\n",
      "Belgian\n",
      "Beverages\n",
      "European\n",
      "Tibetan\n",
      "Greek\n",
      "Gujarati\n",
      "Burger\n",
      "Charcoal Grill\n",
      "Maharashtrian\n",
      "Mediterranean\n",
      "Middle Eastern\n",
      "Nepalese\n",
      "Pizza\n",
      "Spanish\n",
      "Iranian\n",
      "Moroccan\n",
      "Chinese\n",
      "Andhra\n",
      "Fast Food\n",
      "French\n",
      "Asian\n",
      "South Indian\n",
      "Korean\n",
      "Lucknowi\n",
      "Modern Indian\n",
      "Hyderabadi\n",
      "Sri Lankan\n",
      "Salad\n",
      "Kashmiri\n",
      "Pakistani\n",
      "Chettinad\n",
      "Tea\n",
      "Oriya\n",
      "Bengali\n",
      "Indonesian\n",
      "Mithai\n",
      "Cafe\n",
      "Persian\n",
      "Arabian\n",
      "Burmese\n",
      "Juices\n",
      "Mexican\n",
      "Thai\n",
      "Awadhi\n",
      "Indian\n",
      "Portuguese\n",
      "British\n",
      "Goan\n",
      "South American\n"
     ]
    }
   ],
   "source": [
    "#Finding all unique cuisines \n",
    "unique_cuisines = [val.strip() for sublist in df.Cuisines.dropna().astype(str).str.split(\",\").tolist() for val in sublist]\n",
    "unique_cuisines = list(set(unique_cuisines))\n",
    "print(\"{} \\n\".format(len(unique_cuisines)))\n",
    "print(*unique_cuisines,sep=\"\\n\")"
   ]
  },
  {
   "cell_type": "code",
   "execution_count": 16,
   "id": "a18117ce",
   "metadata": {
    "scrolled": false
   },
   "outputs": [],
   "source": [
    "#Changing the cuisine from Pizza to Fast Food for Chicago Pizza, Da Pizza's, Konetto Pizza, Pizza Hut Center (chains)\n",
    "for i in df['Restaurant ID']:\n",
    "    name = df.loc[df['Restaurant ID']==i,['Restaurant Name']].values[0]\n",
    "    if name[0] == 'Chicago Pizza' or name[0] == 'Da Pizza Corner' or name[0] == 'Da Pizza Palace' or name == 'Da Pizza Bakers' or name[0] == 'Pizza Hut Center' or name[0] == 'Konetto Pizza' :\n",
    "        df.loc[df['Restaurant ID']==i,['Cuisines']] = 'Fast Food'    "
   ]
  },
  {
   "cell_type": "code",
   "execution_count": 17,
   "id": "fb83c311",
   "metadata": {},
   "outputs": [],
   "source": [
    "#If cuisine has Fast Food, replace all tags with just 'Fast Food' value (Fast Food cuisine is not regular cuisine)\n",
    "for i in df['Restaurant ID']:\n",
    "        cuisine = df.loc[df['Restaurant ID']==i,['Cuisines']].values[0]\n",
    "        k = cuisine[0].split(',')\n",
    "        if 'Fast Food' in k or ' Fast Food' in k:\n",
    "            df.loc[df['Restaurant ID']==i,['Cuisines']] = 'Fast Food'"
   ]
  },
  {
   "cell_type": "code",
   "execution_count": 18,
   "id": "a9af81c1",
   "metadata": {},
   "outputs": [],
   "source": [
    "#Grouping cuisines region wise. Exceptions - bevs, cafe, healthy\n",
    "northInd   = ['North Indian','Rajasthani' , 'Lucknowi' , 'Kashmiri' , 'Mughlai']\n",
    "southInd   = ['South Indian','Kerala','Hyderabadi','Chettinad','Andhra','Mangalorean']\n",
    "northEInd  = ['North Eastern','Assamese']\n",
    "easternInd = ['East Indian','Bihari','Awadhi','Oriya','Bengali']\n",
    "westernInd = ['West Indian','Gujarati','Goan','Maharashtrian']\n",
    "asian      = ['Asian','Japanese','Thai','Korean','Vietnamese','Sushi','Malaysian']\n",
    "chinese    = ['Chinese','Naga','Tibetan','Burmese']\n",
    "cafe       = ['Cafe','Cafe','Bakery','Desserts']\n",
    "bevs       = ['Beverages','Drinks Only','Tea','Juices']\n",
    "european   = ['European','Continental','French','British','Belgian','Portuguese']\n",
    "mediter    = ['Mediterranean','Greek','Spanish']\n",
    "middleEast = ['Middle Eastern','Iranian','Moroccan','Turkish','Lebanese','Armenian','Lebanese','Persian']\n",
    "american   = ['American','South American','Tex-Mex','Steak']\n",
    "italian    = ['Italian','Pizza']\n",
    "healthy    = ['Healthy Food','Salad']"
   ]
  },
  {
   "cell_type": "code",
   "execution_count": 19,
   "id": "31df8114",
   "metadata": {},
   "outputs": [],
   "source": [
    "#updating Cuisines\n",
    "for n in df['Restaurant ID']:\n",
    "    l = set()\n",
    "    cuisine = df.loc[df['Restaurant ID']==n,['Cuisines']].values[0]\n",
    "    k = cuisine[0].split(',')\n",
    "    for i in range(len(k)) :\n",
    "        if k[i].strip() in northInd[1:]:\n",
    "            k[i] = northInd[0] \n",
    "        if k[i].strip() in southInd[1:]:\n",
    "            k[i] = southInd[0]\n",
    "        if k[i].strip() in northEInd[1:]:\n",
    "            k[i] = northEInd[0]\n",
    "        if k[i].strip() in easternInd[1:]:\n",
    "            k[i] = easternInd[0]\n",
    "        if k[i].strip() in westernInd[1:]:\n",
    "            k[i] = westernInd[0]\n",
    "        if k[i].strip() in asian[1:]:\n",
    "            k[i] = asian[0]\n",
    "        if k[i].strip() in chinese[1:]:\n",
    "            k[i] = chinese[0]\n",
    "        if k[i].strip() in cafe[1:]:\n",
    "            k[i] = cafe[0]\n",
    "        if k[i].strip() in bevs[1:]:\n",
    "            k[i] = bevs[0]\n",
    "        if k[i].strip() in european[1:]:\n",
    "            k[i] = european[0]\n",
    "        if k[i].strip() in mediter[1:]:\n",
    "            k[i] = mediter[0]\n",
    "        if k[i].strip() in middleEast[1:]:\n",
    "            k[i] = middleEast[0]\n",
    "        if k[i].strip() in american[1:]:\n",
    "            k[i] = american[0]\n",
    "        if k[i].strip() in italian[1:]:\n",
    "            k[i] = italian[0]\n",
    "        if k[i].strip() in healthy[1:]:\n",
    "            k[i] = healthy[0]\n",
    "    [l.add(x.strip()) for x in k]\n",
    "    df.loc[df['Restaurant ID']==n,['Cuisines']] = ','.join([str(elem) for elem in l])"
   ]
  },
  {
   "cell_type": "code",
   "execution_count": 20,
   "id": "e0827080",
   "metadata": {},
   "outputs": [],
   "source": [
    "#Any restaurant with more than 1 cuisine, replace it with 'Multicuisine'\n",
    "for i in df['Restaurant ID']:\n",
    "    cuisine = str(df.loc[df['Restaurant ID']==i,['Cuisines']].values[0]).split(\",\")\n",
    "    if len(cuisine)>=2:\n",
    "        df.loc[df['Restaurant ID']==i,['Cuisines']] = 'Multicuisine'"
   ]
  },
  {
   "cell_type": "code",
   "execution_count": 21,
   "id": "bb44ee8b",
   "metadata": {},
   "outputs": [
    {
     "data": {
      "text/plain": [
       "Multicuisine      2255\n",
       "Fast Food         1456\n",
       "North Indian       832\n",
       "Cafe               510\n",
       "Chinese            215\n",
       "Street Food         91\n",
       "South Indian        82\n",
       "Asian               46\n",
       "Ice Cream           45\n",
       "Italian             44\n",
       "Beverages           42\n",
       "Finger Food         38\n",
       "Mithai              36\n",
       "Biryani             23\n",
       "European            21\n",
       "Healthy Food        20\n",
       "American            10\n",
       "Middle Eastern       9\n",
       "East Indian          9\n",
       "West Indian          6\n",
       "Modern Indian        6\n",
       "Mexican              5\n",
       "Parsi                2\n",
       "Mediterranean        2\n",
       "North Eastern        1\n",
       "Nepalese             1\n",
       "Afghani              1\n",
       "Name: Cuisines, dtype: int64"
      ]
     },
     "execution_count": 21,
     "metadata": {},
     "output_type": "execute_result"
    }
   ],
   "source": [
    "#Checking final cuisines list (84 to 27 unique cuisines)\n",
    "df['Cuisines'].value_counts()"
   ]
  },
  {
   "cell_type": "code",
   "execution_count": 22,
   "id": "67b44ae9",
   "metadata": {},
   "outputs": [
    {
     "data": {
      "text/plain": [
       "No     4806\n",
       "Yes    1002\n",
       "Name: Has Table booking, dtype: int64"
      ]
     },
     "execution_count": 22,
     "metadata": {},
     "output_type": "execute_result"
    }
   ],
   "source": [
    "df['Has Table booking'].value_counts()"
   ]
  },
  {
   "cell_type": "code",
   "execution_count": 23,
   "id": "f2910f0a",
   "metadata": {},
   "outputs": [
    {
     "data": {
      "text/plain": [
       "No     3581\n",
       "Yes    2227\n",
       "Name: Has Online delivery, dtype: int64"
      ]
     },
     "execution_count": 23,
     "metadata": {},
     "output_type": "execute_result"
    }
   ],
   "source": [
    "df['Has Online delivery'].value_counts()"
   ]
  },
  {
   "cell_type": "code",
   "execution_count": 24,
   "id": "f941511d",
   "metadata": {},
   "outputs": [
    {
     "data": {
      "text/plain": [
       "1    2531\n",
       "2    2200\n",
       "3     783\n",
       "4     294\n",
       "Name: Price range, dtype: int64"
      ]
     },
     "execution_count": 24,
     "metadata": {},
     "output_type": "execute_result"
    }
   ],
   "source": [
    "df['Price range'].value_counts()"
   ]
  },
  {
   "cell_type": "code",
   "execution_count": 25,
   "id": "53037e71",
   "metadata": {},
   "outputs": [
    {
     "data": {
      "text/plain": [
       "734"
      ]
     },
     "execution_count": 25,
     "metadata": {},
     "output_type": "execute_result"
    }
   ],
   "source": [
    "df['Votes'].nunique()"
   ]
  },
  {
   "cell_type": "code",
   "execution_count": 26,
   "id": "dc34fdba",
   "metadata": {},
   "outputs": [
    {
     "data": {
      "text/plain": [
       "76"
      ]
     },
     "execution_count": 26,
     "metadata": {},
     "output_type": "execute_result"
    }
   ],
   "source": [
    "df['Average Cost for two'].nunique()"
   ]
  },
  {
   "cell_type": "code",
   "execution_count": 27,
   "id": "251fb110",
   "metadata": {},
   "outputs": [],
   "source": [
    "listNY = {'Yes': True, 'No': False}"
   ]
  },
  {
   "cell_type": "code",
   "execution_count": 28,
   "id": "cd7cf971",
   "metadata": {},
   "outputs": [],
   "source": [
    "df['Has Table booking'].replace(listNY,inplace=True)"
   ]
  },
  {
   "cell_type": "code",
   "execution_count": 29,
   "id": "3ea2e87a",
   "metadata": {},
   "outputs": [],
   "source": [
    "df['Has Online delivery'].replace(listNY,inplace=True)"
   ]
  },
  {
   "cell_type": "code",
   "execution_count": 30,
   "id": "4abb63ad",
   "metadata": {},
   "outputs": [
    {
     "data": {
      "text/plain": [
       "<matplotlib.collections.PathCollection at 0x7fdb7879ee80>"
      ]
     },
     "execution_count": 30,
     "metadata": {},
     "output_type": "execute_result"
    },
    {
     "data": {
      "image/png": "[encoded data removed]",
      "text/plain": [
       "<Figure size 432x288 with 1 Axes>"
      ]
     },
     "metadata": {
      "needs_background": "light"
     },
     "output_type": "display_data"
    }
   ],
   "source": [
    "plt.scatter(df['Average Cost for two'], \n",
    "            df['Aggregate rating'])"
   ]
  },
  {
   "cell_type": "code",
   "execution_count": 31,
   "id": "820eecdf",
   "metadata": {},
   "outputs": [
    {
     "data": {
      "text/plain": [
       "<matplotlib.collections.PathCollection at 0x7fdb7882a6d0>"
      ]
     },
     "execution_count": 31,
     "metadata": {},
     "output_type": "execute_result"
    },
    {
     "data": {
      "image/png": "[encoded data removed]",
      "text/plain": [
       "<Figure size 432x288 with 1 Axes>"
      ]
     },
     "metadata": {
      "needs_background": "light"
     },
     "output_type": "display_data"
    }
   ],
   "source": [
    "plt.scatter(df['Price range'], \n",
    "            df['Aggregate rating'])"
   ]
  },
  {
   "cell_type": "code",
   "execution_count": 32,
   "id": "36aa91d3",
   "metadata": {},
   "outputs": [],
   "source": [
    "#remove unnecessary columns\n",
    "df.drop(['Country Code', 'City','Address','Currency','Restaurant ID'], axis=1, inplace=True)"
   ]
  },
  {
   "cell_type": "code",
   "execution_count": 33,
   "id": "3c604be5",
   "metadata": {},
   "outputs": [],
   "source": [
    "#rename columns for analysis\n",
    "df = df.rename(columns={'Aggregate rating': 'rating','Restaurant Name':'Restaurant_Name','Average Cost for two':'avg_cost_for_two','Has Table booking':'has_table_booking','Has Online delivery':'has_online_delivery','Price range':'price_range','Votes':'votes','Restaurant_Name':'restaurant_name','Cuisines':'cuisines'})\n"
   ]
  },
  {
   "cell_type": "code",
   "execution_count": 34,
   "id": "2e03bcfb",
   "metadata": {},
   "outputs": [
    {
     "data": {
      "text/plain": [
       "(5808, 8)"
      ]
     },
     "execution_count": 34,
     "metadata": {},
     "output_type": "execute_result"
    }
   ],
   "source": [
    "df.shape"
   ]
  },
  {
   "cell_type": "code",
   "execution_count": 35,
   "id": "966693bb",
   "metadata": {},
   "outputs": [
    {
     "name": "stdout",
     "output_type": "stream",
     "text": [
      "<class 'pandas.core.frame.DataFrame'>\n",
      "Int64Index: 5808 entries, 865 to 9108\n",
      "Data columns (total 8 columns):\n",
      " #   Column               Non-Null Count  Dtype  \n",
      "---  ------               --------------  -----  \n",
      " 0   Restaurant_Name      5808 non-null   object \n",
      " 1   cuisines             5808 non-null   object \n",
      " 2   avg_cost_for_two     5808 non-null   int64  \n",
      " 3   has_table_booking    5808 non-null   bool   \n",
      " 4   has_online_delivery  5808 non-null   bool   \n",
      " 5   price_range          5808 non-null   int64  \n",
      " 6   rating               5808 non-null   float64\n",
      " 7   votes                5808 non-null   int64  \n",
      "dtypes: bool(2), float64(1), int64(3), object(2)\n",
      "memory usage: 329.0+ KB\n"
     ]
    }
   ],
   "source": [
    "df.info()"
   ]
  },
  {
   "cell_type": "code",
   "execution_count": 37,
   "id": "ceb78f02",
   "metadata": {},
   "outputs": [
    {
     "data": {
      "text/plain": [
       "Restaurant_Name        0\n",
       "cuisines               0\n",
       "avg_cost_for_two       0\n",
       "has_table_booking      0\n",
       "has_online_delivery    0\n",
       "price_range            0\n",
       "rating                 0\n",
       "votes                  0\n",
       "dtype: int64"
      ]
     },
     "execution_count": 37,
     "metadata": {},
     "output_type": "execute_result"
    }
   ],
   "source": [
    "df.isna().sum()"
   ]
  },
  {
   "cell_type": "code",
   "execution_count": 36,
   "id": "286f519f",
   "metadata": {},
   "outputs": [],
   "source": [
    "#generate the clean csv file\n",
    "#df.to_csv('zomatoClean.csv', index=False)"
   ]
  }
 ],
 "metadata": {
  "kernelspec": {
   "display_name": "Python 3.8.8 ('base')",
   "language": "python",
   "name": "python3"
  },
  "language_info": {
   "codemirror_mode": {
    "name": "ipython",
    "version": 3
   },
   "file_extension": ".py",
   "mimetype": "text/x-python",
   "name": "python",
   "nbconvert_exporter": "python",
   "pygments_lexer": "ipython3",
   "version": "3.8.8"
  },
  "vscode": {
   "interpreter": {
    "hash": "40727c13fb29f1324c389260642c1ee61a0e46c87295fc678aabef6fe007e7fc"
   }
  }
 },
 "nbformat": 4,
 "nbformat_minor": 5
}
